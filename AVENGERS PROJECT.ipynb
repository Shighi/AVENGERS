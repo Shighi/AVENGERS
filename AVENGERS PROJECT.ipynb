{
  "metadata": {
    "language_info": {
      "codemirror_mode": {
        "name": "python",
        "version": 3
      },
      "file_extension": ".py",
      "mimetype": "text/x-python",
      "name": "python",
      "nbconvert_exporter": "python",
      "pygments_lexer": "ipython3",
      "version": "3.8"
    },
    "kernelspec": {
      "name": "python",
      "display_name": "Python (Pyodide)",
      "language": "python"
    }
  },
  "nbformat_minor": 4,
  "nbformat": 4,
  "cells": [
    {
      "cell_type": "code",
      "source": "\n#METHOD 1\n\n\nclass Movie:\n    def __init__(self, title, youtube_url, storyline, release_date, rating, director, box_office):\n        self.title = title\n        self.youtube_url = youtube_url\n        self.storyline = storyline\n        self.release_date = release_date\n        self.rating = rating\n        self.director = director\n        self.box_office = box_office\n\n    def show_trailer(self):\n        # Open Browser and play trailer\n        print(\"Playing trailer:\", self.youtube_url)\n\n    def show_info(self):\n        # Print movie information\n        print(\"Title:\", self.title)\n        print(\"Storyline:\", self.storyline)\n        print(\"Release Date:\", self.release_date)\n        print(\"Rating:\", self.rating)\n        print(\"Director:\", self.director)\n        print(\"Box Office:\", self.box_office)\n\n# Creating an instance of the Movie class for Avengers\navengers = Movie(\n    \"Avengers:Endgame\",\n    \"https://www.youtube.com/watch?v=TcMBFSGVi1c&pp=ygUQYXZlbmdlcnMgZW5kZ2FtZQ%3D%3D\",\n    \"A band of heroes come together against all odds to save the earth\",\n    \"26 April 2019\",\n    \"8.4/10\",\n    \"Anthony Russo and Joe Russo\",\n    \"2.798 billion USD\"\n)\n\n# Calling the methods on the avengers instance\navengers.show_trailer()\navengers.show_info()\n\nprint()  # Add a space\n\n# Creating an instance of the Movie class for ironman\nironman = Movie(\n    \"Ironman 3\",\n    \"https://www.youtube.com/watch?v=A9iTN5TxpC4\",\n    \"It tells the story of Tony Stark's ongoing adventures as a brilliant inventor and billionaire entrepreneur\",\n    \"1 May 2013\",\n    \"7.1/10\",\n    \"Anthony Russo and Joe Russo\",\n    \"1.215 billion USD\"\n)\n\n# Calling the methods on the avengers instance\nironman.show_trailer()\nironman.show_info()\n\nprint()  # Add a space\n\n\n#METHOD 2\ndef show_trailer(title, youtube_url):\n    # Open Browser and play trailer\n    print(\"Playing trailer:\", youtube_url)\n\ndef show_info(title, storyline, release_date, rating, youtube_url, director, box_office):\n    # Print movie information\n    print(\"Title:\", title)\n    print(\"Storyline:\", storyline)\n    print(\"Release Date:\", release_date)\n    print(\"Rating:\", rating)\n    print(\"Director:\", director)\n    print(\"Box Office:\", box_office)\n\ntitle = \"Avengers\"\nyoutube_url = \"https://www.youtube.com/watch?v=eOrNdBpGMv8&pp=ygUQYXZlbmdlcnMgdHJhaWxlcg%3D%3D\"\nstoryline = \"A band of heroes come together against all odds to save the earth\"\nrelease_date = \"May 4, 2012\"\nrating = \"8/10\"\ndirector = \"Anthony Russo and Joe Russo\"\nbox_office = \"1.519 billion USD\"\n\nshow_trailer(title, youtube_url)\nshow_info(title, storyline, release_date, rating, youtube_url, director, box_office)\n\nprint()\n\ntitle =\"Avengers:Endgame\"\nyoutube_url =  \"https://www.youtube.com/watch?v=A9iTN5TxpC4\"\nstoryline = \"Another movie where a band of heroes come together against all odds to save the earth\"\nrelease_date = \"26 April 2019\"\nrating = \"8.4/10\"\ndirector = \"Anthony Russo and Joe Russo\"\nbox_office =  \"2.798 billion USD\"\n\nshow_trailer(title, youtube_url)\nshow_info(title, storyline, release_date, rating, youtube_url, director, box_office)\n\nprint()\ntitle = \"Ironman 3\"\nyoutube_url =  \"https://www.youtube.com/watch?v=A9iTN5TxpC4\"\nstoryline =  \"It tells the story of Tony Stark's ongoing adventures as a brilliant inventor and billionaire entrepreneur\"\nrelease_date =  \"1 May 2013\"\nrating = \"7.1/10\"\ndirector = \"Anthony Russo and Joe Russo\"\nbox_office = \"1.215 billion USD\"\n\nshow_trailer(title, youtube_url)\nshow_info(title, storyline, release_date, rating, youtube_url, director, box_office)\n\n\n\n\n\n",
      "metadata": {
        "trusted": true
      },
      "execution_count": 1,
      "outputs": [
        {
          "name": "stdout",
          "text": "Playing trailer: https://www.youtube.com/watch?v=TcMBFSGVi1c&pp=ygUQYXZlbmdlcnMgZW5kZ2FtZQ%3D%3D\nTitle: Avengers:Endgame\nStoryline: A band of heroes come together against all odds to save the earth\nRelease Date: 26 April 2019\nRating: 8.4/10\nDirector: Anthony Russo and Joe Russo\nBox Office: 2.798 billion USD\n\nPlaying trailer: https://www.youtube.com/watch?v=A9iTN5TxpC4\nTitle: Ironman 3\nStoryline: It tells the story of Tony Stark's ongoing adventures as a brilliant inventor and billionaire entrepreneur\nRelease Date: 1 May 2013\nRating: 7.1/10\nDirector: Anthony Russo and Joe Russo\nBox Office: 1.215 billion USD\n\nPlaying trailer: https://www.youtube.com/watch?v=eOrNdBpGMv8&pp=ygUQYXZlbmdlcnMgdHJhaWxlcg%3D%3D\nTitle: Avengers\nStoryline: A band of heroes come together against all odds to save the earth\nRelease Date: May 4, 2012\nRating: 8/10\nDirector: Anthony Russo and Joe Russo\nBox Office: 1.519 billion USD\n\nPlaying trailer: https://www.youtube.com/watch?v=A9iTN5TxpC4\nTitle: Avengers:Endgame\nStoryline: Another movie where a band of heroes come together against all odds to save the earth\nRelease Date: 26 April 2019\nRating: 8.4/10\nDirector: Anthony Russo and Joe Russo\nBox Office: 2.798 billion USD\n\nPlaying trailer: https://www.youtube.com/watch?v=A9iTN5TxpC4\nTitle: Ironman 3\nStoryline: It tells the story of Tony Stark's ongoing adventures as a brilliant inventor and billionaire entrepreneur\nRelease Date: 1 May 2013\nRating: 7.1/10\nDirector: Anthony Russo and Joe Russo\nBox Office: 1.215 billion USD\n",
          "output_type": "stream"
        }
      ]
    },
    {
      "cell_type": "code",
      "source": "",
      "metadata": {},
      "execution_count": null,
      "outputs": []
    }
  ]
}